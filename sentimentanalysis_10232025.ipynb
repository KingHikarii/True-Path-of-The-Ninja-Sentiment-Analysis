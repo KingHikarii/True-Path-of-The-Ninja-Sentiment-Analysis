{
 "cells": [
  {
   "cell_type": "code",
   "execution_count": 50,
   "id": "a0bb2296",
   "metadata": {},
   "outputs": [
    {
     "name": "stdout",
     "output_type": "stream",
     "text": [
      "Requirement already satisfied: requests in c:\\users\\hik\\anaconda3\\lib\\site-packages (2.32.2)\n",
      "Requirement already satisfied: charset-normalizer<4,>=2 in c:\\users\\hik\\anaconda3\\lib\\site-packages (from requests) (2.0.4)\n",
      "Requirement already satisfied: idna<4,>=2.5 in c:\\users\\hik\\anaconda3\\lib\\site-packages (from requests) (3.7)\n",
      "Requirement already satisfied: urllib3<3,>=1.21.1 in c:\\users\\hik\\anaconda3\\lib\\site-packages (from requests) (2.2.2)\n",
      "Requirement already satisfied: certifi>=2017.4.17 in c:\\users\\hik\\anaconda3\\lib\\site-packages (from requests) (2024.8.30)\n"
     ]
    }
   ],
   "source": [
    "#!pip install contractions\n",
    "!pip install requests \n",
    "\n",
    "import contractions\n",
    "from bs4 import BeautifulSoup\n",
    "import requests"
   ]
  },
  {
   "cell_type": "markdown",
   "id": "affe8f7a",
   "metadata": {},
   "source": [
    "Phase 1: Data Retrieval"
   ]
  },
  {
   "cell_type": "code",
   "execution_count": 52,
   "id": "f0bacd4f",
   "metadata": {},
   "outputs": [],
   "source": [
    "URL = \"https://www.goodreads.com/book/show/9296338.True_Path_of_the_Ninja_The_Definitive_Translation_of_the_Shoninki__An_Authentic_Ninja_Training_Manual_\"\n",
    "page = requests.get(URL)"
   ]
  },
  {
   "cell_type": "markdown",
   "id": "5dc9751f",
   "metadata": {},
   "source": [
    "print(page.text)"
   ]
  },
  {
   "cell_type": "code",
   "execution_count": 54,
   "id": "3b2e876f",
   "metadata": {},
   "outputs": [],
   "source": [
    "page_text = page.text"
   ]
  },
  {
   "cell_type": "code",
   "execution_count": 55,
   "id": "f3b556a1",
   "metadata": {},
   "outputs": [],
   "source": [
    "soup = BeautifulSoup(page_text, 'html.parser')"
   ]
  },
  {
   "cell_type": "code",
   "execution_count": 56,
   "id": "b0df70ba",
   "metadata": {},
   "outputs": [],
   "source": [
    "strip_list = []"
   ]
  },
  {
   "cell_type": "code",
   "execution_count": 57,
   "id": "815d3bdb",
   "metadata": {},
   "outputs": [],
   "source": [
    "all_comments = soup.find_all('div', class_=\"TruncatedContent__text TruncatedContent__text--large\")\n",
    "for comments in all_comments:\n",
    "  #print(comments.text.strip())\n",
    "  strip_list.append(comments.text.strip())"
   ]
  },
  {
   "cell_type": "markdown",
   "id": "19f649c1",
   "metadata": {
    "lines_to_next_cell": 2
   },
   "source": [
    "Phase 2: Data Cleaning"
   ]
  },
  {
   "cell_type": "code",
   "execution_count": 59,
   "id": "2723d2c4",
   "metadata": {},
   "outputs": [
    {
     "data": {
      "text/plain": [
       "'True Path of the Ninja is the first authoritative translation in English of the Shoninki —the famous 17th century ninjutsu manual.Authors Antony Cummins and Yoshie Minami worked closely with Dr. Nakashima Atsumi, author of the most comprehensive modern Japanese version of the Shoninki , thus making this English translation the closest to the original scrolls. The information and insights found in this translation are invaluable for understanding the skills, techniques and mentality of the historical shinobi. Whether it involved tips for surviving in the wild, advice on intelligence-gathering techniques, or methods for creating chaos in the enemy camp, this ninja book unveils secrets long lost. Along with its practical applications, this book is an important guide to the mental discipline that ninjas must have to ensure success in accomplishing their mission.True Path of the Ninja is covers the following In addition to the translation of the Shoninki , this book also includes the first written record of the oral tradition \"Defense Against a Ninja\" taught by Otake Risuke, the revered sensei of the legendary Katori Shinto Ryu school of swordsmanship. Sensei reveals for the first time these ancient and traditional teachings on how the samurai can protect himself from the cunning wiles of a ninja.'"
      ]
     },
     "execution_count": 59,
     "metadata": {},
     "output_type": "execute_result"
    }
   ],
   "source": [
    "# removing first \"review\", as it is a description\n",
    "strip_list.pop(0)"
   ]
  },
  {
   "cell_type": "code",
   "execution_count": 60,
   "id": "2da448a6",
   "metadata": {
    "lines_to_next_cell": 2
   },
   "outputs": [
    {
     "data": {
      "text/plain": [
       "'Great book really a blast to the past!'"
      ]
     },
     "execution_count": 60,
     "metadata": {},
     "output_type": "execute_result"
    }
   ],
   "source": [
    "# removing the review that has a foreign language within in it.\n",
    "strip_list.pop(20)\n",
    "strip_list.pop(21)\n",
    "strip_list.pop(22)"
   ]
  },
  {
   "cell_type": "markdown",
   "id": "fcc6fbd7",
   "metadata": {},
   "source": [
    "reviewing the list once again"
   ]
  },
  {
   "cell_type": "code",
   "execution_count": 62,
   "id": "7cac6729",
   "metadata": {
    "lines_to_next_cell": 1
   },
   "outputs": [
    {
     "name": "stdout",
     "output_type": "stream",
     "text": [
      "So much better than most of the false information out there about the ninja - much of the information is still relevant today - but has been hidden under layers of 'pop culture' mythos that really has minimized how dedicated the true practitioners of this art were. This book will strip away many of those layers and give a true account of this complex art.\n",
      "100 x more interesting than all the fictional layers of 'mangaized' information out there about this little understood group. A great read for those who want a deeper understanding of this complex and (often) misunderstood art that still has relevant lessons for intelligence agencies today once the fiction is stripped away. A fantastic translation.\n",
      "Interesting manual from the middle ages written by a ninja master instructing in the arts of spying, mind control and other ninja skills. Definitely read if you are interested in ninjas.\n",
      "In the 17th century Natori a memeber of one of Japans elite Ninja clans wrote a training manual for Ninjas or Shinobis. The manual in Japanese was called Shoninki. Ninpo translates to way of the ninja and the ninja's way is not just martial arts and assassinations. Although, Shinobi warriors did engage in assassinations there is much more to Ninpo.The way of the Ninja is all encompassing. Ninja's could be employed by there pay master or war lord to steal something from an enemy or to spy on an enemy and get information. To get to where they needed to go they would often times employ disguises looking like monks, priests, laborers etc to get through checkpoints and not be noticed.A shinobi warrior could creep into a household but just as often they go in through the front door with an invitation. Pretending to be sick and asking for help was one way to penetrate an enemies defenses and get information. Shinobi warriors knew how to shmooze and butter people up. Regular townsmen were great souces of information as were servants working for the warlord who was targeted.Shinobi warriors often times had to spend nights out doors. They learned survival skills and had pack with them so they could hunt and create fire to warm themselves. The book goes beyond the physical attribute of training and delves into sorcery and the psychology. For the ninja enthusiast this book makes a great addition written by a man who is not oly a master himself in Ninjutsu but also a samurai.Being a Ninja is not so romantic as the movies and media make them to appear. The author disabuses the reader of this notion that Ninjas have supernatural skills. Their training was hard and Ninjas were first and foremost very independent workers who did better working alon then they did in pairs or groups.\n",
      "If you're looking for something that gives you an indication of the mindset of a ninja, this book does it. I'm a former student of Ninjutsu, and it's interesting to read about this martial art from a historical perspective. It's not a story, it's a philosophy.\n",
      "I really enjoyed this book, very interesting and informative interpretation of Ninjitsu.Jonathan\n",
      "A text about espionage tactics in feudal Japan. Aka its a book about ninjas. It was very short but required me to look up a lot of Japanese terms to understand it well (17th cent. primary text). Discusses everything from what equipment a ninja should carry, to how to read peoples emotions, and lots in between. This text focuses more on sneaking than combat, so there isnt much detail about weaponry use here. If you are interested in the historical, rather than mythological ninja (in the west we tend to confuse them) then check this out. Very few texts like this exist, since ninjas didn't have the aristocratic pizzaz of samurai. Be thankful for relatively widespread premodern Japanese literacy!Old school secret agent stuff right here.\n",
      "Very good ninja reference book. I learned a lot from this even to the point of having highlighted and dog-eared practically the whole thing.\n",
      "Translation of ancient ninja lore and scrolls. Got one more of these on the docket for research. Pretty fascinating stuff!\n",
      "This is a good starting point if you want to learn to think like a ninja. It's not a martial arts instruction book, though martial arts and weaponry are mentioned. It's not a \"ninjas are magic\" book; it explains how ninjas convinced medieval Japanese people that they were magic through complete knowledge of their environment and how to use it to their best advantage. And for every description of smoke bombs and vanishing, there are five more notes about human psychology, which is way more important as a tool so one may avoid ever needing to vanish in a puff of smoke. The physiognomy is a bit off and assumes everyone is Asian, but the espionage advice gives a lot of inspiration for finding one's way into any social group, or for understanding the diversions one sees in old samurai films.I want to read another book like this but am not sure where to go next. Maybe look up Hattori Hanzo?\n",
      "This is not an instruction manual on ninjutsu fighting techniques, per se. This is more a manual on how to perform clandestine espionage operations, which is also a very important skill of the ninja or shinobi, and which isn't emphasized quite so much in today's ninjutsu dojos. There are various techniques on how to blend with the community, how to distract people, and how to sneak around in enemy territory gathering intelligence. The most intriguing aspect of this book is that it was written in the 17th century by an actual ninja, so it gives us a glimpse of some very real principles that the ninja/shinobi were required to adopt and perfect. Any practitioner of ninjutsu who is looking to have a well-rounded experience in learning the whole art of the ninja will want to add this to their collection.\n",
      "Very good stuff. I know that alot of controversy has surrounded the differing translations, but I didn't read it for that. I learned it to brush up on ninja warfare and techniques, and for that it was an informative read. It gave me a new insight into how the ghost warriors of feudal Japan really got the reputations they have.\n",
      "I very like the in-depth research about the shinobi especially the Katori Shinto Ryu parts. The least I like is the divination part: superstitions, amulets, astrology and magic. I really don't believe in them and as a Christian, I believe they are works of the devil.\n",
      "Excellent book regarding the art of ninjutsu that serve as a field manual of \"quick notes\" , this version is ok but is not as detailed as True Path of the Ninja written by Anthony Cummins (that version is more detailed than this one and straight to the point), regardless it is a good quick reference on the subject.\n",
      "Definitely super interesting as it takes a 17th century scroll that detailed the actual 'how-to' of ninja life and taught it to someone, but just a touch dry at times. It also did a great job of myth-busting some of the common misconceptions we have of what ninjas were. If this topic interests you it's worth reading and checking out.\n",
      "good read\n",
      "This is the English translation of written Japanese documents describing the training of Shinobi or Ninja. It is pretty interesting and dispels a lot of the myths of the Ninja.\n",
      "Good read.\n",
      "An interesting translation and analysis of an ancient Ninja training manual.\n",
      "I thought it was hogwash, but some nuggets remain that are somewhat applicable today.\n",
      "buku yang sangat berbobot meski tidak setebal buku manual advanced ninja training-nya Stephen K. Hayes (bapak ninjutsu amerika). dalam buku ini kita tidak saja bisa mempelajari bagaimana ninja memfokuskan diri pada target, melainkan dibedah lebih dalam pada strategi2 jitu yang bisa digunakan dalam mempermudah akses kepada target. salah satu poin yang unik dalam buku ini adalah pada bab terakhir ditambahkan essay cara2 menghadapi ninja bagi para samurai yang secara simpel bisa dikatakan essay anti-ninja guna terhindar dari serangan para ninja.\n",
      "Interesting from an intellectual point of view, but not very exciting. Nevertheless, provides a unique view to the education of ninjas\n"
     ]
    }
   ],
   "source": [
    "for i in strip_list:\n",
    "  print(i)"
   ]
  },
  {
   "cell_type": "code",
   "execution_count": 63,
   "id": "56510161",
   "metadata": {
    "lines_to_next_cell": 1
   },
   "outputs": [],
   "source": [
    "# converting each string into a lowercase\n",
    "def conversions(strip_list):\n",
    "  temp_list = []\n",
    "  for i in strip_list:\n",
    "    c_lowered = i.lower()\n",
    "    temp_list.append(c_lowered)\n",
    "  return temp_list"
   ]
  },
  {
   "cell_type": "code",
   "execution_count": 64,
   "id": "a405c832",
   "metadata": {},
   "outputs": [],
   "source": [
    "strip_list = conversions(strip_list)"
   ]
  },
  {
   "cell_type": "markdown",
   "id": "d228a885",
   "metadata": {},
   "source": [
    "verification of the lowercasing process"
   ]
  },
  {
   "cell_type": "code",
   "execution_count": 66,
   "id": "31a08388",
   "metadata": {
    "lines_to_next_cell": 1
   },
   "outputs": [
    {
     "name": "stdout",
     "output_type": "stream",
     "text": [
      "\n",
      " \n",
      " This is the new list: \n",
      "so much better than most of the false information out there about the ninja - much of the information is still relevant today - but has been hidden under layers of 'pop culture' mythos that really has minimized how dedicated the true practitioners of this art were. this book will strip away many of those layers and give a true account of this complex art.\n",
      "100 x more interesting than all the fictional layers of 'mangaized' information out there about this little understood group. a great read for those who want a deeper understanding of this complex and (often) misunderstood art that still has relevant lessons for intelligence agencies today once the fiction is stripped away. a fantastic translation.\n",
      "interesting manual from the middle ages written by a ninja master instructing in the arts of spying, mind control and other ninja skills. definitely read if you are interested in ninjas.\n",
      "in the 17th century natori a memeber of one of japans elite ninja clans wrote a training manual for ninjas or shinobis. the manual in japanese was called shoninki. ninpo translates to way of the ninja and the ninja's way is not just martial arts and assassinations. although, shinobi warriors did engage in assassinations there is much more to ninpo.the way of the ninja is all encompassing. ninja's could be employed by there pay master or war lord to steal something from an enemy or to spy on an enemy and get information. to get to where they needed to go they would often times employ disguises looking like monks, priests, laborers etc to get through checkpoints and not be noticed.a shinobi warrior could creep into a household but just as often they go in through the front door with an invitation. pretending to be sick and asking for help was one way to penetrate an enemies defenses and get information. shinobi warriors knew how to shmooze and butter people up. regular townsmen were great souces of information as were servants working for the warlord who was targeted.shinobi warriors often times had to spend nights out doors. they learned survival skills and had pack with them so they could hunt and create fire to warm themselves. the book goes beyond the physical attribute of training and delves into sorcery and the psychology. for the ninja enthusiast this book makes a great addition written by a man who is not oly a master himself in ninjutsu but also a samurai.being a ninja is not so romantic as the movies and media make them to appear. the author disabuses the reader of this notion that ninjas have supernatural skills. their training was hard and ninjas were first and foremost very independent workers who did better working alon then they did in pairs or groups.\n",
      "if you're looking for something that gives you an indication of the mindset of a ninja, this book does it. i'm a former student of ninjutsu, and it's interesting to read about this martial art from a historical perspective. it's not a story, it's a philosophy.\n",
      "i really enjoyed this book, very interesting and informative interpretation of ninjitsu.jonathan\n",
      "a text about espionage tactics in feudal japan. aka its a book about ninjas. it was very short but required me to look up a lot of japanese terms to understand it well (17th cent. primary text). discusses everything from what equipment a ninja should carry, to how to read peoples emotions, and lots in between. this text focuses more on sneaking than combat, so there isnt much detail about weaponry use here. if you are interested in the historical, rather than mythological ninja (in the west we tend to confuse them) then check this out. very few texts like this exist, since ninjas didn't have the aristocratic pizzaz of samurai. be thankful for relatively widespread premodern japanese literacy!old school secret agent stuff right here.\n",
      "very good ninja reference book. i learned a lot from this even to the point of having highlighted and dog-eared practically the whole thing.\n",
      "translation of ancient ninja lore and scrolls. got one more of these on the docket for research. pretty fascinating stuff!\n",
      "this is a good starting point if you want to learn to think like a ninja. it's not a martial arts instruction book, though martial arts and weaponry are mentioned. it's not a \"ninjas are magic\" book; it explains how ninjas convinced medieval japanese people that they were magic through complete knowledge of their environment and how to use it to their best advantage. and for every description of smoke bombs and vanishing, there are five more notes about human psychology, which is way more important as a tool so one may avoid ever needing to vanish in a puff of smoke. the physiognomy is a bit off and assumes everyone is asian, but the espionage advice gives a lot of inspiration for finding one's way into any social group, or for understanding the diversions one sees in old samurai films.i want to read another book like this but am not sure where to go next. maybe look up hattori hanzo?\n",
      "this is not an instruction manual on ninjutsu fighting techniques, per se. this is more a manual on how to perform clandestine espionage operations, which is also a very important skill of the ninja or shinobi, and which isn't emphasized quite so much in today's ninjutsu dojos. there are various techniques on how to blend with the community, how to distract people, and how to sneak around in enemy territory gathering intelligence. the most intriguing aspect of this book is that it was written in the 17th century by an actual ninja, so it gives us a glimpse of some very real principles that the ninja/shinobi were required to adopt and perfect. any practitioner of ninjutsu who is looking to have a well-rounded experience in learning the whole art of the ninja will want to add this to their collection.\n",
      "very good stuff. i know that alot of controversy has surrounded the differing translations, but i didn't read it for that. i learned it to brush up on ninja warfare and techniques, and for that it was an informative read. it gave me a new insight into how the ghost warriors of feudal japan really got the reputations they have.\n",
      "i very like the in-depth research about the shinobi especially the katori shinto ryu parts. the least i like is the divination part: superstitions, amulets, astrology and magic. i really don't believe in them and as a christian, i believe they are works of the devil.\n",
      "excellent book regarding the art of ninjutsu that serve as a field manual of \"quick notes\" , this version is ok but is not as detailed as true path of the ninja written by anthony cummins (that version is more detailed than this one and straight to the point), regardless it is a good quick reference on the subject.\n",
      "definitely super interesting as it takes a 17th century scroll that detailed the actual 'how-to' of ninja life and taught it to someone, but just a touch dry at times. it also did a great job of myth-busting some of the common misconceptions we have of what ninjas were. if this topic interests you it's worth reading and checking out.\n",
      "good read\n",
      "this is the english translation of written japanese documents describing the training of shinobi or ninja. it is pretty interesting and dispels a lot of the myths of the ninja.\n",
      "good read.\n",
      "an interesting translation and analysis of an ancient ninja training manual.\n",
      "i thought it was hogwash, but some nuggets remain that are somewhat applicable today.\n",
      "buku yang sangat berbobot meski tidak setebal buku manual advanced ninja training-nya stephen k. hayes (bapak ninjutsu amerika). dalam buku ini kita tidak saja bisa mempelajari bagaimana ninja memfokuskan diri pada target, melainkan dibedah lebih dalam pada strategi2 jitu yang bisa digunakan dalam mempermudah akses kepada target. salah satu poin yang unik dalam buku ini adalah pada bab terakhir ditambahkan essay cara2 menghadapi ninja bagi para samurai yang secara simpel bisa dikatakan essay anti-ninja guna terhindar dari serangan para ninja.\n",
      "interesting from an intellectual point of view, but not very exciting. nevertheless, provides a unique view to the education of ninjas\n"
     ]
    }
   ],
   "source": [
    "print(\"\\n \\n This is the new list: \")\n",
    "for i in strip_list:\n",
    "  print(i)"
   ]
  },
  {
   "cell_type": "markdown",
   "id": "7cd1a57b",
   "metadata": {},
   "source": [
    "removing any special character and punctuations"
   ]
  },
  {
   "cell_type": "code",
   "execution_count": 68,
   "id": "16681437",
   "metadata": {
    "lines_to_next_cell": 1
   },
   "outputs": [],
   "source": [
    "def removing_specialchar(strip_list):\n",
    "  import string\n",
    "  translator = str.maketrans('', '', string.punctuation)\n",
    "  temp_list = []\n",
    "  for i in strip_list:\n",
    "    cleaning_strips = i.translate(translator)\n",
    "    temp_list.append(cleaning_strips)\n",
    "\n",
    "  return temp_list"
   ]
  },
  {
   "cell_type": "code",
   "execution_count": 69,
   "id": "e87a6b4e",
   "metadata": {
    "lines_to_next_cell": 1
   },
   "outputs": [
    {
     "name": "stdout",
     "output_type": "stream",
     "text": [
      "Verification Process: \n",
      "so much better than most of the false information out there about the ninja  much of the information is still relevant today  but has been hidden under layers of pop culture mythos that really has minimized how dedicated the true practitioners of this art were this book will strip away many of those layers and give a true account of this complex art\n",
      "100 x more interesting than all the fictional layers of mangaized information out there about this little understood group a great read for those who want a deeper understanding of this complex and often misunderstood art that still has relevant lessons for intelligence agencies today once the fiction is stripped away a fantastic translation\n",
      "interesting manual from the middle ages written by a ninja master instructing in the arts of spying mind control and other ninja skills definitely read if you are interested in ninjas\n",
      "in the 17th century natori a memeber of one of japans elite ninja clans wrote a training manual for ninjas or shinobis the manual in japanese was called shoninki ninpo translates to way of the ninja and the ninjas way is not just martial arts and assassinations although shinobi warriors did engage in assassinations there is much more to ninpothe way of the ninja is all encompassing ninjas could be employed by there pay master or war lord to steal something from an enemy or to spy on an enemy and get information to get to where they needed to go they would often times employ disguises looking like monks priests laborers etc to get through checkpoints and not be noticeda shinobi warrior could creep into a household but just as often they go in through the front door with an invitation pretending to be sick and asking for help was one way to penetrate an enemies defenses and get information shinobi warriors knew how to shmooze and butter people up regular townsmen were great souces of information as were servants working for the warlord who was targetedshinobi warriors often times had to spend nights out doors they learned survival skills and had pack with them so they could hunt and create fire to warm themselves the book goes beyond the physical attribute of training and delves into sorcery and the psychology for the ninja enthusiast this book makes a great addition written by a man who is not oly a master himself in ninjutsu but also a samuraibeing a ninja is not so romantic as the movies and media make them to appear the author disabuses the reader of this notion that ninjas have supernatural skills their training was hard and ninjas were first and foremost very independent workers who did better working alon then they did in pairs or groups\n",
      "if youre looking for something that gives you an indication of the mindset of a ninja this book does it im a former student of ninjutsu and its interesting to read about this martial art from a historical perspective its not a story its a philosophy\n",
      "i really enjoyed this book very interesting and informative interpretation of ninjitsujonathan\n",
      "a text about espionage tactics in feudal japan aka its a book about ninjas it was very short but required me to look up a lot of japanese terms to understand it well 17th cent primary text discusses everything from what equipment a ninja should carry to how to read peoples emotions and lots in between this text focuses more on sneaking than combat so there isnt much detail about weaponry use here if you are interested in the historical rather than mythological ninja in the west we tend to confuse them then check this out very few texts like this exist since ninjas didnt have the aristocratic pizzaz of samurai be thankful for relatively widespread premodern japanese literacyold school secret agent stuff right here\n",
      "very good ninja reference book i learned a lot from this even to the point of having highlighted and dogeared practically the whole thing\n",
      "translation of ancient ninja lore and scrolls got one more of these on the docket for research pretty fascinating stuff\n",
      "this is a good starting point if you want to learn to think like a ninja its not a martial arts instruction book though martial arts and weaponry are mentioned its not a ninjas are magic book it explains how ninjas convinced medieval japanese people that they were magic through complete knowledge of their environment and how to use it to their best advantage and for every description of smoke bombs and vanishing there are five more notes about human psychology which is way more important as a tool so one may avoid ever needing to vanish in a puff of smoke the physiognomy is a bit off and assumes everyone is asian but the espionage advice gives a lot of inspiration for finding ones way into any social group or for understanding the diversions one sees in old samurai filmsi want to read another book like this but am not sure where to go next maybe look up hattori hanzo\n",
      "this is not an instruction manual on ninjutsu fighting techniques per se this is more a manual on how to perform clandestine espionage operations which is also a very important skill of the ninja or shinobi and which isnt emphasized quite so much in todays ninjutsu dojos there are various techniques on how to blend with the community how to distract people and how to sneak around in enemy territory gathering intelligence the most intriguing aspect of this book is that it was written in the 17th century by an actual ninja so it gives us a glimpse of some very real principles that the ninjashinobi were required to adopt and perfect any practitioner of ninjutsu who is looking to have a wellrounded experience in learning the whole art of the ninja will want to add this to their collection\n",
      "very good stuff i know that alot of controversy has surrounded the differing translations but i didnt read it for that i learned it to brush up on ninja warfare and techniques and for that it was an informative read it gave me a new insight into how the ghost warriors of feudal japan really got the reputations they have\n",
      "i very like the indepth research about the shinobi especially the katori shinto ryu parts the least i like is the divination part superstitions amulets astrology and magic i really dont believe in them and as a christian i believe they are works of the devil\n",
      "excellent book regarding the art of ninjutsu that serve as a field manual of quick notes  this version is ok but is not as detailed as true path of the ninja written by anthony cummins that version is more detailed than this one and straight to the point regardless it is a good quick reference on the subject\n",
      "definitely super interesting as it takes a 17th century scroll that detailed the actual howto of ninja life and taught it to someone but just a touch dry at times it also did a great job of mythbusting some of the common misconceptions we have of what ninjas were if this topic interests you its worth reading and checking out\n",
      "good read\n",
      "this is the english translation of written japanese documents describing the training of shinobi or ninja it is pretty interesting and dispels a lot of the myths of the ninja\n",
      "good read\n",
      "an interesting translation and analysis of an ancient ninja training manual\n",
      "i thought it was hogwash but some nuggets remain that are somewhat applicable today\n",
      "interesting from an intellectual point of view but not very exciting nevertheless provides a unique view to the education of ninjas\n"
     ]
    }
   ],
   "source": [
    "# verification of the removing of special characters and punctuation\n",
    "strip_list = removing_specialchar(strip_list)\n",
    "strip_list.pop(20)\n",
    "print(f'Verification Process: ')\n",
    "for i in strip_list:\n",
    "  print(i)"
   ]
  },
  {
   "cell_type": "markdown",
   "id": "7e015094",
   "metadata": {},
   "source": [
    "all special characters and punctuation have been removed."
   ]
  },
  {
   "cell_type": "markdown",
   "id": "28dbace1",
   "metadata": {},
   "source": [
    "lastly we will be converting contraction for consistency during our training process"
   ]
  },
  {
   "cell_type": "code",
   "execution_count": 72,
   "id": "604c0600",
   "metadata": {
    "lines_to_next_cell": 1
   },
   "outputs": [],
   "source": [
    "def fix_contractions(strip_list):\n",
    "  temp_list = []\n",
    "  for i in strip_list:\n",
    "    contracted_strip = contractions.fix(i)\n",
    "    temp_list.append(contracted_strip)\n",
    "\n",
    "  return temp_list"
   ]
  },
  {
   "cell_type": "markdown",
   "id": "ede82187",
   "metadata": {},
   "source": [
    "verification of recontraction"
   ]
  },
  {
   "cell_type": "code",
   "execution_count": 74,
   "id": "fc15cd3f",
   "metadata": {},
   "outputs": [],
   "source": [
    "strip_list = fix_contractions(strip_list)"
   ]
  },
  {
   "cell_type": "code",
   "execution_count": 100,
   "id": "c0a1b199",
   "metadata": {},
   "outputs": [
    {
     "name": "stdout",
     "output_type": "stream",
     "text": [
      "Contraction successful? \n",
      "\n",
      " so much better than most of the false information out there about the ninja  much of the information is still relevant today  but has been hidden under layers of pop culture mythos that really has minimized how dedicated the true practitioners of this art were this book will strip away many of those layers and give a true account of this complex art\n",
      "\n",
      " 100 x more interesting than all the fictional layers of mangaized information out there about this little understood group a great read for those who want a deeper understanding of this complex and often misunderstood art that still has relevant lessons for intelligence agencies today once the fiction is stripped away a fantastic translation\n",
      "\n",
      " interesting manual from the middle ages written by a ninja master instructing in the arts of spying mind control and other ninja skills definitely read if you are interested in ninjas\n",
      "\n",
      " in the 17th century natori a memeber of one of japans elite ninja clans wrote a training manual for ninjas or shinobis the manual in japanese was called shoninki ninpo translates to way of the ninja and the ninjas way is not just martial arts and assassinations although shinobi warriors did engage in assassinations there is much more to ninpothe way of the ninja is all encompassing ninjas could be employed by there pay master or war lord to steal something from an enemy or to spy on an enemy and get information to get to where they needed to go they would often times employ disguises looking like monks priests laborers etc to get through checkpoints and not be noticeda shinobi warrior could creep into a household but just as often they go in through the front door with an invitation pretending to be sick and asking for help was one way to penetrate an enemies defenses and get information shinobi warriors knew how to shmooze and butter people up regular townsmen were great souces of information as were servants working for the warlord who was targetedshinobi warriors often times had to spend nights out doors they learned survival skills and had pack with them so they could hunt and create fire to warm themselves the book goes beyond the physical attribute of training and delves into sorcery and the psychology for the ninja enthusiast this book makes a great addition written by a man who is not oly a master himself in ninjutsu but also a samuraibeing a ninja is not so romantic as the movies and media make them to appear the author disabuses the reader of this notion that ninjas have supernatural skills their training was hard and ninjas were first and foremost very independent workers who did better working alon then they did in pairs or groups\n",
      "\n",
      " if you are looking for something that gives you an indication of the mindset of a ninja this book does it i am a former student of ninjutsu and its interesting to read about this martial art from a historical perspective its not a story its a philosophy\n",
      "\n",
      " i really enjoyed this book very interesting and informative interpretation of ninjitsujonathan\n",
      "\n",
      " a text about espionage tactics in feudal japan aka its a book about ninjas it was very short but required me to look up a lot of japanese terms to understand it well 17th cent primary text discusses everything from what equipment a ninja should carry to how to read peoples emotions and lots in between this text focuses more on sneaking than combat so there is not much detail about weaponry use here if you are interested in the historical rather than mythological ninja in the west we tend to confuse them then check this out very few texts like this exist since ninjas did not have the aristocratic pizzaz of samurai be thankful for relatively widespread premodern japanese literacyold school secret agent stuff right here\n",
      "\n",
      " very good ninja reference book i learned a lot from this even to the point of having highlighted and dogeared practically the whole thing\n",
      "\n",
      " translation of ancient ninja lore and scrolls got one more of these on the docket for research pretty fascinating stuff\n",
      "\n",
      " this is a good starting point if you want to learn to think like a ninja its not a martial arts instruction book though martial arts and weaponry are mentioned its not a ninjas are magic book it explains how ninjas convinced medieval japanese people that they were magic through complete knowledge of their environment and how to use it to their best advantage and for every description of smoke bombs and vanishing there are five more notes about human psychology which is way more important as a tool so one may avoid ever needing to vanish in a puff of smoke the physiognomy is a bit off and assumes everyone is asian but the espionage advice gives a lot of inspiration for finding ones way into any social group or for understanding the diversions one sees in old samurai filmsi want to read another book like this but am not sure where to go next maybe look up hattori hanzo\n",
      "\n",
      " this is not an instruction manual on ninjutsu fighting techniques per se this is more a manual on how to perform clandestine espionage operations which is also a very important skill of the ninja or shinobi and which is not emphasized quite so much in todays ninjutsu dojos there are various techniques on how to blend with the community how to distract people and how to sneak around in enemy territory gathering intelligence the most intriguing aspect of this book is that it was written in the 17th century by an actual ninja so it gives us a glimpse of some very real principles that the ninjashinobi were required to adopt and perfect any practitioner of ninjutsu who is looking to have a wellrounded experience in learning the whole art of the ninja will want to add this to their collection\n",
      "\n",
      " very good stuff i know that alot of controversy has surrounded the differing translations but i did not read it for that i learned it to brush up on ninja warfare and techniques and for that it was an informative read it gave me a new insight into how the ghost warriors of feudal japan really got the reputations they have\n",
      "\n",
      " i very like the indepth research about the shinobi especially the katori shinto ryu parts the least i like is the divination part superstitions amulets astrology and magic i really do not believe in them and as a christian i believe they are works of the devil\n",
      "\n",
      " excellent book regarding the art of ninjutsu that serve as a field manual of quick notes  this version is ok but is not as detailed as true path of the ninja written by anthony cummins that version is more detailed than this one and straight to the point regardless it is a good quick reference on the subject\n",
      "\n",
      " definitely super interesting as it takes a 17th century scroll that detailed the actual howto of ninja life and taught it to someone but just a touch dry at times it also did a great job of mythbusting some of the common misconceptions we have of what ninjas were if this topic interests you its worth reading and checking out\n",
      "\n",
      " good read\n",
      "\n",
      " this is the english translation of written japanese documents describing the training of shinobi or ninja it is pretty interesting and dispels a lot of the myths of the ninja\n",
      "\n",
      " good read\n",
      "\n",
      " an interesting translation and analysis of an ancient ninja training manual\n",
      "\n",
      " i thought it was hogwash but some nuggets remain that are somewhat applicable today\n",
      "\n",
      " interesting from an intellectual point of view but not very exciting nevertheless provides a unique view to the education of ninjas\n"
     ]
    }
   ],
   "source": [
    "print(\"Contraction successful? \")\n",
    "for i in strip_list:\n",
    "    print(\"\\n\", i)"
   ]
  },
  {
   "cell_type": "markdown",
   "id": "37027775",
   "metadata": {},
   "source": [
    "the contraction is successful!"
   ]
  }
 ],
 "metadata": {
  "jupytext": {
   "cell_metadata_filter": "-all",
   "main_language": "python",
   "notebook_metadata_filter": "-all"
  },
  "kernelspec": {
   "display_name": "Python 3 (ipykernel)",
   "language": "python",
   "name": "python3"
  },
  "language_info": {
   "codemirror_mode": {
    "name": "ipython",
    "version": 3
   },
   "file_extension": ".py",
   "mimetype": "text/x-python",
   "name": "python",
   "nbconvert_exporter": "python",
   "pygments_lexer": "ipython3",
   "version": "3.12.4"
  }
 },
 "nbformat": 4,
 "nbformat_minor": 5
}
